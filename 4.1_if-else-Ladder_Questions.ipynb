{
 "cells": [
  {
   "cell_type": "raw",
   "metadata": {},
   "source": [
    "Read Five marks tamil,english,maths,science and social and if all marks are greater than 35 , print pass else print fail"
   ]
  },
  {
   "cell_type": "code",
   "execution_count": 5,
   "metadata": {},
   "outputs": [
    {
     "name": "stdin",
     "output_type": "stream",
     "text": [
      "Enter the marks for tamil: 40\n",
      "Enter the marks for english: 52\n",
      "Enter the marks for maths: 47\n",
      "Enter the marks for science:  83\n",
      "Enter the marks for social: 95\n"
     ]
    },
    {
     "name": "stdout",
     "output_type": "stream",
     "text": [
      "pass\n"
     ]
    }
   ],
   "source": [
    "tamil = int(input(\"Enter the marks for tamil:\"))\n",
    "english = int(input(\"Enter the marks for english:\"))\n",
    "maths = int(input(\"Enter the marks for maths:\"))\n",
    "science = int(input(\"Enter the marks for science: \"))\n",
    "social= int(input(\"Enter the marks for social:\"))\n",
    "if tamil>35 and english>35 and maths>35 and science>35 and social>35:\n",
    " print(\"pass\")\n",
    "else:\n",
    " print(\"fail\")"
   ]
  }
 ],
 "metadata": {
  "kernelspec": {
   "display_name": "Python 3 (ipykernel)",
   "language": "python",
   "name": "python3"
  },
  "language_info": {
   "codemirror_mode": {
    "name": "ipython",
    "version": 3
   },
   "file_extension": ".py",
   "mimetype": "text/x-python",
   "name": "python",
   "nbconvert_exporter": "python",
   "pygments_lexer": "ipython3",
   "version": "3.12.7"
  }
 },
 "nbformat": 4,
 "nbformat_minor": 4
}
